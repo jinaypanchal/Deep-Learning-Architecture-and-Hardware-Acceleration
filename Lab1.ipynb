{
  "nbformat": 4,
  "nbformat_minor": 0,
  "metadata": {
    "colab": {
      "provenance": [],
      "authorship_tag": "ABX9TyOpubL3egNXRHM2il0UMml0",
      "include_colab_link": true
    },
    "kernelspec": {
      "name": "python3",
      "display_name": "Python 3"
    },
    "language_info": {
      "name": "python"
    }
  },
  "cells": [
    {
      "cell_type": "markdown",
      "metadata": {
        "id": "view-in-github",
        "colab_type": "text"
      },
      "source": [
        "<a href=\"https://colab.research.google.com/github/jinaypanchal/Deep-Learning-Architecture-and-Hardware-Acceleration/blob/main/Lab1.ipynb\" target=\"_parent\"><img src=\"https://colab.research.google.com/assets/colab-badge.svg\" alt=\"Open In Colab\"/></a>"
      ]
    },
    {
      "cell_type": "markdown",
      "source": [
        "##Importing Libraries"
      ],
      "metadata": {
        "id": "KMyIdiQu1uI2"
      }
    },
    {
      "cell_type": "code",
      "source": [
        "import torch\n",
        "from torch.utils.data import Dataset, DataLoader\n",
        "import matplotlib.pyplot as plt\n"
      ],
      "metadata": {
        "id": "P_rpBLxqyM4G",
        "colab": {
          "base_uri": "https://localhost:8080/",
          "height": 17
        },
        "outputId": "480e2974-68a2-47d7-f103-9c80049014f5"
      },
      "execution_count": 48,
      "outputs": [
        {
          "output_type": "display_data",
          "data": {
            "text/plain": [
              "<IPython.core.display.HTML object>"
            ],
            "text/html": [
              "\n",
              "  <style>\n",
              "    pre {\n",
              "        white-space: pre-wrap;\n",
              "    }\n",
              "  </style>\n",
              "  "
            ]
          },
          "metadata": {}
        },
        {
          "output_type": "display_data",
          "data": {
            "text/plain": [
              "<IPython.core.display.HTML object>"
            ],
            "text/html": [
              "\n",
              "  <style>\n",
              "    pre {\n",
              "        white-space: pre-wrap;\n",
              "    }\n",
              "  </style>\n",
              "  "
            ]
          },
          "metadata": {}
        },
        {
          "output_type": "display_data",
          "data": {
            "text/plain": [
              "<IPython.core.display.HTML object>"
            ],
            "text/html": [
              "\n",
              "  <style>\n",
              "    pre {\n",
              "        white-space: pre-wrap;\n",
              "    }\n",
              "  </style>\n",
              "  "
            ]
          },
          "metadata": {}
        },
        {
          "output_type": "display_data",
          "data": {
            "text/plain": [
              "<IPython.core.display.HTML object>"
            ],
            "text/html": [
              "\n",
              "  <style>\n",
              "    pre {\n",
              "        white-space: pre-wrap;\n",
              "    }\n",
              "  </style>\n",
              "  "
            ]
          },
          "metadata": {}
        }
      ]
    },
    {
      "cell_type": "markdown",
      "source": [
        "###### Delta and Batch delta rule has been implemented separately, the classes for test dataset and train dataset are defined separately but, batch delta function has been directly called without using the classes"
      ],
      "metadata": {
        "id": "T3OpGuLnCpaz"
      }
    },
    {
      "cell_type": "markdown",
      "source": [
        "## Delta Rule"
      ],
      "metadata": {
        "id": "-NfVYRy1yrAH"
      }
    },
    {
      "cell_type": "code",
      "source": [
        "import torch\n",
        "from torch.utils.data import Dataset\n",
        "\n",
        "class train_data(Dataset):\n",
        "    def __init__(self, inputs, targets, learning_rates):\n",
        "        self.inputs = inputs\n",
        "        self.targets = targets\n",
        "        self.learning_rates = learning_rates\n",
        "\n",
        "    def __len__(self):\n",
        "        return len(self.inputs)\n",
        "\n",
        "    def __getitem__(self, idx):\n",
        "        return self.inputs[idx], self.targets[idx], self.learning_rates[idx]\n",
        "\n",
        "class test_data(Dataset):\n",
        "    def __init__(self, inputs, targets):\n",
        "        self.inputs = inputs\n",
        "        self.targets = targets\n",
        "\n",
        "    def __len__(self):\n",
        "        return len(self.inputs)\n",
        "\n",
        "    def __getitem__(self, idx):\n",
        "        return self.inputs[idx], self.targets[idx]\n",
        "\n",
        "#Calculating MEAN SQUARED ERROR Loss\n",
        "def calculate_mse(test_data, weights):\n",
        "    mse = 0.0\n",
        "\n",
        "    for inputs, target in test_data:\n",
        "        inputs = torch.tensor(inputs, dtype=torch.float32)\n",
        "        prediction = torch.sum(inputs * weights)\n",
        "        mse += (target - prediction) ** 2\n",
        "\n",
        "    mse /= len(test_data)\n",
        "    return mse.item()\n",
        "\n",
        "def delta_rule(train_data, test_data):\n",
        "    # For this rule we will update the weights after each iteration\n",
        "    #Initial weight assignment\n",
        "    weights = torch.tensor([50.0, 50.0, 50.0])\n",
        "    training_losses = []\n",
        "    testing_losses = []\n",
        "\n",
        "    for i in range(len(train_data)):\n",
        "        print(\"Iteration: \", i )\n",
        "        # print(len(train_data))\n",
        "        inputs, target, learning_rate = train_data[i]\n",
        "        # print(learning_rate)\n",
        "        #Converting inputs to Tensor\n",
        "        inputs = torch.tensor(inputs, dtype=torch.float32)\n",
        "        prediction = torch.sum(inputs * weights)\n",
        "        loss = target - prediction\n",
        "        training_losses.append(loss)\n",
        "\n",
        "        # Updating weights\n",
        "        weights = weights + learning_rate * inputs * loss\n",
        "        print(weights)\n",
        "        test_loss = calculate_mse(test_data, weights)\n",
        "        testing_losses.append(test_loss)\n",
        "\n",
        "    return training_losses, weights, testing_losses\n",
        "\n",
        "\n",
        "\n",
        "\n",
        "# Define inputs and targets for both train and test datasets\n",
        "delta_train_inputs = [\n",
        "    (5.0, 2.0, 4.0),\n",
        "    (3.0, 3.0, 3.0),\n",
        "    (0.0, 5.0, 1.0),\n",
        "    (2.0, 1.0, 2.0),\n",
        "]\n",
        "\n",
        "delta_train_targets = [1250.0, 900.0, 350.0, 550.0]\n",
        "delta_learning_rates = [1/70.0, 1/12.0, 1/27.0, 2/20.0]\n",
        "\n",
        "delta_test_inputs = [\n",
        "    (6.0, 1.0, 3.0),\n",
        "    (2.0, 2.0, 1.0),\n",
        "    (4.0, 5.0, 0.0),\n",
        "]\n",
        "\n",
        "delta_test_targets = [1250.0, 500.0, 850.0]\n",
        "\n",
        "delta_train_dataset = train_data(delta_train_inputs, delta_train_targets, delta_learning_rates)\n",
        "delta_test_dataset = test_data(delta_test_inputs, delta_test_targets)\n",
        "\n",
        "delta_losses, delta_weights, delta_test_losses = delta_rule(delta_train_dataset, delta_test_dataset)\n",
        "\n",
        "print(\"Delta Rule Training Losses:\", delta_losses)\n",
        "print(\"Delta Weights: \", delta_weights)\n",
        "print(\"Delta Rule Testing Losses: \", delta_test_losses)\n",
        "\n",
        "delta_test_mse = calculate_mse(delta_test_dataset, delta_weights)\n",
        "print(\"Delta Rule Test MSE: \", delta_test_mse)\n",
        "\n",
        "# Print final testing MSE for delta rule\n",
        "# final_test_mse = delta_test_losses[-1]\n",
        "# print(\"Final Testing MSE for Delta Rule:\", final_test_mse)\n"
      ],
      "metadata": {
        "colab": {
          "base_uri": "https://localhost:8080/",
          "height": 236
        },
        "id": "-_f_HAXQJEJ8",
        "outputId": "8718dc9f-b463-4406-df16-6f692ff43f9b"
      },
      "execution_count": 49,
      "outputs": [
        {
          "output_type": "display_data",
          "data": {
            "text/plain": [
              "<IPython.core.display.HTML object>"
            ],
            "text/html": [
              "\n",
              "  <style>\n",
              "    pre {\n",
              "        white-space: pre-wrap;\n",
              "    }\n",
              "  </style>\n",
              "  "
            ]
          },
          "metadata": {}
        },
        {
          "output_type": "display_data",
          "data": {
            "text/plain": [
              "<IPython.core.display.HTML object>"
            ],
            "text/html": [
              "\n",
              "  <style>\n",
              "    pre {\n",
              "        white-space: pre-wrap;\n",
              "    }\n",
              "  </style>\n",
              "  "
            ]
          },
          "metadata": {}
        },
        {
          "output_type": "display_data",
          "data": {
            "text/plain": [
              "<IPython.core.display.HTML object>"
            ],
            "text/html": [
              "\n",
              "  <style>\n",
              "    pre {\n",
              "        white-space: pre-wrap;\n",
              "    }\n",
              "  </style>\n",
              "  "
            ]
          },
          "metadata": {}
        },
        {
          "output_type": "display_data",
          "data": {
            "text/plain": [
              "<IPython.core.display.HTML object>"
            ],
            "text/html": [
              "\n",
              "  <style>\n",
              "    pre {\n",
              "        white-space: pre-wrap;\n",
              "    }\n",
              "  </style>\n",
              "  "
            ]
          },
          "metadata": {}
        },
        {
          "output_type": "stream",
          "name": "stdout",
          "text": [
            "Iteration:  0\n",
            "tensor([100.,  70.,  90.])\n",
            "Iteration:  1\n",
            "tensor([130., 100., 120.])\n",
            "Iteration:  2\n",
            "tensor([130.0000,  50.0000, 110.0000])\n",
            "Iteration:  3\n",
            "tensor([134.0000,  52.0000, 114.0000])\n",
            "Delta Rule Training Losses: [tensor(700.), tensor(120.), tensor(-270.), tensor(20.)]\n",
            "Delta Weights:  tensor([134.0000,  52.0000, 114.0000])\n",
            "Delta Rule Testing Losses:  [37000.0, 11800.0, 5133.33349609375, 1938.6666259765625]\n",
            "Delta Rule Test MSE:  1938.6666259765625\n"
          ]
        }
      ]
    },
    {
      "cell_type": "markdown",
      "source": [
        "## Batch Delta Rule"
      ],
      "metadata": {
        "id": "xa5ONk9dJwiz"
      }
    },
    {
      "cell_type": "code",
      "source": [
        "\n",
        "import torch\n",
        "\n",
        "class train_data(Dataset):\n",
        "    def __init__(self, inputs, targets):\n",
        "        self.inputs = inputs\n",
        "        self.targets = targets\n",
        "        # self.learning_rates = learning_rates\n",
        "\n",
        "    def __len__(self):\n",
        "        return len(self.inputs)\n",
        "\n",
        "    def __getitem__(self, idx):\n",
        "        return self.inputs[idx], self.targets[idx]\n",
        "\n",
        "class test_data(Dataset):\n",
        "    def __init__(self, inputs, targets):\n",
        "        self.inputs = inputs\n",
        "        self.targets = targets\n",
        "\n",
        "    def __len__(self):\n",
        "        return len(self.inputs)\n",
        "\n",
        "    def __getitem__(self, idx):\n",
        "        return self.inputs[idx], self.targets[idx]\n",
        "\n",
        "#Calculating MEAN SQUARED ERROR Loss\n",
        "def calculate_mse(inputs, targets, weights):\n",
        "    mse = 0.0\n",
        "\n",
        "    for i in range(len(inputs)):\n",
        "        input_data = torch.tensor(inputs[i], dtype=torch.float32)\n",
        "        prediction = torch.sum(input_data * weights)\n",
        "        mse += (targets[i] - prediction) ** 2\n",
        "\n",
        "    mse /= len(inputs)\n",
        "    return mse.item()\n",
        "\n",
        "\n",
        "def batch_delta_rule(train_inputs, train_targets, test_inputs, test_targets):\n",
        "    #For  batch delta rule we will process through dividing the inputs into batch size of 3 and updating the weights after processing each batch,\n",
        "    # and this will be under one epoch and this process will be repeated for 10 epochs\n",
        "\n",
        "    # print(len(train_inputs))\n",
        "    batch_size = 3\n",
        "    num_epochs = 10\n",
        "    weights = torch.tensor([50.0, 50.0, 50.0])\n",
        "    training_losses = [] # Storing the training losses\n",
        "    testing_losses = []  # Store testing losses after calculating it from MSE\n",
        "\n",
        "\n",
        "    for epoch in range(num_epochs):\n",
        "        epoch_loss = 0.0\n",
        "        print(\"Current Epoch: \", epoch)\n",
        "\n",
        "        for batch_start in range(0, len(train_inputs), batch_size):\n",
        "            change = 0\n",
        "            batch_end = min(batch_start + batch_size, len(train_inputs))\n",
        "            batch_losses = []\n",
        "\n",
        "            for i in range(batch_start, batch_end):\n",
        "\n",
        "                inputs_batch = train_inputs[i]\n",
        "                # print(inputs_batch)\n",
        "                target = train_targets[i]\n",
        "                inputs_batch = torch.tensor(inputs_batch, dtype=torch.float32)\n",
        "                # print(inputs_batch)\n",
        "                prediction = torch.sum(inputs_batch * weights)\n",
        "                loss = target - prediction\n",
        "                # print(loss)\n",
        "                # print(loss * inputs_batch)\n",
        "                batch_losses.append(loss)\n",
        "                change += loss * inputs_batch\n",
        "                # print(change)\n",
        "\n",
        "            learning_rate = 1 / 100\n",
        "            weights = weights + learning_rate * change\n",
        "            # print(\"Updated Weights: \", weights)\n",
        "\n",
        "            batch_loss = sum(batch_losses) / len(batch_losses)\n",
        "            epoch_loss += batch_loss\n",
        "            # print(batch_loss)\n",
        "            # print(epoch_loss)\n",
        "\n",
        "        training_losses.append(epoch_loss)\n",
        "        test_loss = calculate_mse(test_inputs, test_targets, weights)\n",
        "        testing_losses.append(test_loss)\n",
        "\n",
        "    return training_losses, weights, testing_losses\n",
        "\n",
        "# Define inputs and targets for the batch delta rule\n",
        "batch_delta_train_inputs = [\n",
        "    (5.0, 2.0, 4.0),\n",
        "    (3.0, 3.0, 3.0),\n",
        "    (0.0, 5.0, 1.0),\n",
        "    (2.0, 1.0, 2.0),\n",
        "    (1.0, 0.0, 5.0),\n",
        "    (4.0, 2.0, 1.0),\n",
        "    (6.0, 1.0, 1.0),\n",
        "    (2.0, 3.0, 4.0),\n",
        "    (7.0, 3.0, 0.0),\n",
        "    (4.0, 4.0, 2.0),\n",
        "    (1.0, 5.0, 7.0),\n",
        "    (5.0, 1.0, 3.0),\n",
        "]\n",
        "\n",
        "batch_delta_train_targets = [1250.0, 900.0, 350.0, 550.0, 650.0, 800.0, 1050.0, 850.0, 1200.0, 1000.0, 1100.0, 1100.0]\n",
        "\n",
        "batch_delta_test_inputs = [\n",
        "    (6.0, 1.0, 3.0),\n",
        "    (2.0, 2.0, 1.0),\n",
        "    (4.0, 5.0, 0.0),\n",
        "]\n",
        "\n",
        "batch_delta_test_targets = [1250.0, 500.0, 850.0]\n",
        "\n",
        "num_epochs = 10\n",
        "batch_size = 3\n",
        "\n",
        "batch_delta_losses, batch_delta_weights, batch_delta_test_losses = batch_delta_rule(\n",
        "    batch_delta_train_inputs, batch_delta_train_targets, batch_delta_test_inputs, batch_delta_test_targets)\n",
        "\n",
        "\n",
        "print()\n",
        "print(\"Batch Delta Final Updated weights: \", batch_delta_weights)\n",
        "print()\n",
        "print(\"Batch Delta Rule Training Losses:\", batch_delta_losses)\n",
        "print()\n",
        "print(\"Batch Delta Testing Losses (from MSE): \", batch_delta_test_losses)\n",
        "print()\n",
        "print(\"Testing MSE for Batch Delta:\", batch_delta_test_losses[-1])\n"
      ],
      "metadata": {
        "colab": {
          "base_uri": "https://localhost:8080/",
          "height": 363
        },
        "id": "wz7rPiTQAPWs",
        "outputId": "239a1ae8-252e-4aed-9731-6da16ed75bfa"
      },
      "execution_count": 50,
      "outputs": [
        {
          "output_type": "display_data",
          "data": {
            "text/plain": [
              "<IPython.core.display.HTML object>"
            ],
            "text/html": [
              "\n",
              "  <style>\n",
              "    pre {\n",
              "        white-space: pre-wrap;\n",
              "    }\n",
              "  </style>\n",
              "  "
            ]
          },
          "metadata": {}
        },
        {
          "output_type": "display_data",
          "data": {
            "text/plain": [
              "<IPython.core.display.HTML object>"
            ],
            "text/html": [
              "\n",
              "  <style>\n",
              "    pre {\n",
              "        white-space: pre-wrap;\n",
              "    }\n",
              "  </style>\n",
              "  "
            ]
          },
          "metadata": {}
        },
        {
          "output_type": "display_data",
          "data": {
            "text/plain": [
              "<IPython.core.display.HTML object>"
            ],
            "text/html": [
              "\n",
              "  <style>\n",
              "    pre {\n",
              "        white-space: pre-wrap;\n",
              "    }\n",
              "  </style>\n",
              "  "
            ]
          },
          "metadata": {}
        },
        {
          "output_type": "display_data",
          "data": {
            "text/plain": [
              "<IPython.core.display.HTML object>"
            ],
            "text/html": [
              "\n",
              "  <style>\n",
              "    pre {\n",
              "        white-space: pre-wrap;\n",
              "    }\n",
              "  </style>\n",
              "  "
            ]
          },
          "metadata": {}
        },
        {
          "output_type": "stream",
          "name": "stdout",
          "text": [
            "Current Epoch:  0\n",
            "Current Epoch:  1\n",
            "Current Epoch:  2\n",
            "Current Epoch:  3\n",
            "Current Epoch:  4\n",
            "Current Epoch:  5\n",
            "Current Epoch:  6\n",
            "Current Epoch:  7\n",
            "Current Epoch:  8\n",
            "Current Epoch:  9\n",
            "\n",
            "Batch Delta Final Updated weights:  tensor([149.6477,  51.2920,  99.1688])\n",
            "\n",
            "Batch Delta Rule Training Losses: [tensor(554.0490), tensor(25.9034), tensor(7.1928), tensor(1.7505), tensor(0.1590), tensor(-0.2376), tensor(-0.2819), tensor(-0.2367), tensor(-0.1799), tensor(-0.1316)]\n",
            "\n",
            "Batch Delta Testing Losses (from MSE):  [7274.12646484375, 2984.542236328125, 1477.42138671875, 751.3836059570312, 381.6708984375, 193.2288055419922, 97.62451171875, 49.27012252807617, 24.853933334350586, 12.53415298461914]\n",
            "\n",
            "Testing MSE for Batch Delta: 12.53415298461914\n"
          ]
        }
      ]
    },
    {
      "cell_type": "markdown",
      "source": [
        "## Testing Losses Plots for Delta and Batch Delta"
      ],
      "metadata": {
        "id": "BhknB5qb9TOK"
      }
    },
    {
      "cell_type": "code",
      "source": [
        "plt.figure(figsize=(14, 4))\n",
        "plt.subplot(1, 2, 1)\n",
        "plt.plot(range(len(delta_test_losses)), delta_test_losses, marker='o', linestyle='-')\n",
        "plt.xlabel('Iteration')\n",
        "plt.ylabel('Testing Loss (MSE)')\n",
        "plt.title('Testing Loss Changes During Delta Rule Training')\n",
        "plt.grid(True)\n",
        "# plt.show()\n",
        "\n",
        "plt.subplot(1, 2, 2)\n",
        "plt.plot(range(len(batch_delta_test_losses)), batch_delta_test_losses, marker='o', linestyle='-')\n",
        "plt.xlabel('Epoch')\n",
        "plt.ylabel('Testing Loss (MSE)')\n",
        "plt.title('Testing Loss Changes During Batch Delta Rule Training')\n",
        "plt.grid(True)\n",
        "\n",
        "plt.subplots_adjust(wspace=0.3)\n",
        "\n",
        "plt.show()"
      ],
      "metadata": {
        "colab": {
          "base_uri": "https://localhost:8080/",
          "height": 410
        },
        "id": "5J-JrRne9PSs",
        "outputId": "13d03762-d8b7-4ec9-9f5f-7e110d44eb33"
      },
      "execution_count": 51,
      "outputs": [
        {
          "output_type": "display_data",
          "data": {
            "text/plain": [
              "<IPython.core.display.HTML object>"
            ],
            "text/html": [
              "\n",
              "  <style>\n",
              "    pre {\n",
              "        white-space: pre-wrap;\n",
              "    }\n",
              "  </style>\n",
              "  "
            ]
          },
          "metadata": {}
        },
        {
          "output_type": "display_data",
          "data": {
            "text/plain": [
              "<IPython.core.display.HTML object>"
            ],
            "text/html": [
              "\n",
              "  <style>\n",
              "    pre {\n",
              "        white-space: pre-wrap;\n",
              "    }\n",
              "  </style>\n",
              "  "
            ]
          },
          "metadata": {}
        },
        {
          "output_type": "display_data",
          "data": {
            "text/plain": [
              "<IPython.core.display.HTML object>"
            ],
            "text/html": [
              "\n",
              "  <style>\n",
              "    pre {\n",
              "        white-space: pre-wrap;\n",
              "    }\n",
              "  </style>\n",
              "  "
            ]
          },
          "metadata": {}
        },
        {
          "output_type": "display_data",
          "data": {
            "text/plain": [
              "<IPython.core.display.HTML object>"
            ],
            "text/html": [
              "\n",
              "  <style>\n",
              "    pre {\n",
              "        white-space: pre-wrap;\n",
              "    }\n",
              "  </style>\n",
              "  "
            ]
          },
          "metadata": {}
        },
        {
          "output_type": "display_data",
          "data": {
            "text/plain": [
              "<Figure size 1400x400 with 2 Axes>"
            ],
            "image/png": "[encoded data removed]"
          },
          "metadata": {}
        }
      ]
    },
    {
      "cell_type": "code",
      "source": [],
      "metadata": {
        "id": "uMo5np1K9WzO"
      },
      "execution_count": null,
      "outputs": []
    }
  ]
}